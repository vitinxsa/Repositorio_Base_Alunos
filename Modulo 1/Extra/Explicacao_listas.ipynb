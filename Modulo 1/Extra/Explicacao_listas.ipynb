{
 "cells": [
  {
   "cell_type": "markdown",
   "metadata": {
    "id": "3-10nKaJicf0"
   },
   "source": [
    "### Listas em Python\n",
    "\n",
    "**O Que é uma Lista?**\n",
    "\n",
    "Imagine uma caixa organizadora onde você pode guardar vários itens diferentes, como números, textos, ou até outras caixas. Em Python, uma lista é exatamente isso: uma estrutura que armazena múltiplos valores em uma única variável, mantendo uma ordem específica.\n",
    "\n",
    "\n",
    "\n",
    "\n",
    "\n",
    "\n"
   ]
  },
  {
   "cell_type": "markdown",
   "metadata": {
    "id": "-e0BHYLcyoS6"
   },
   "source": [
    "\n",
    "**Como Criar uma Lista?**\n",
    "\n",
    "\n",
    "Usamos colchetes [ ] para definir uma lista, separando os elementos por vírgulas.\n"
   ]
  },
  {
   "cell_type": "code",
   "execution_count": null,
   "metadata": {
    "id": "TAY8QREafsnK"
   },
   "outputs": [],
   "source": [
    "# Exemplo de lista com diferentes tipos de dados\n",
    "minha_lista = [10, \"Maçã\", True, 3.145, [1, 2, 3]]"
   ]
  },
  {
   "cell_type": "markdown",
   "metadata": {
    "id": "GOersz6ay-F6"
   },
   "source": [
    "\n",
    "**Aqui, minha_lista contém:**\n",
    "\n",
    "Um número inteiro (10),\n",
    "\n",
    "\n",
    "Uma string (\"Maçã\"),\n",
    "\n",
    "\n",
    "Um valor booleano (True),\n",
    "\n",
    "\n",
    "Um número decimal (3.14),\n",
    "\n",
    "\n",
    "E até outra lista ([1, 2, 3]).\n",
    "\n",
    "\n",
    "Isso mostra que listas são flexíveis e podem misturar tipos de dados.\n"
   ]
  },
  {
   "cell_type": "markdown",
   "metadata": {
    "id": "TtmN6kkmgkjy"
   },
   "source": [
    "## Principais Características das Listas\n",
    "1. Ordenadas → Têm Índices\n",
    "Cada elemento na lista tem uma posição fixa (índice), começando em 0."
   ]
  },
  {
   "cell_type": "code",
   "execution_count": 25,
   "metadata": {
    "id": "N-z3ky4wvY0L"
   },
   "outputs": [],
   "source": [
    "frutas = [\"maçã\", \"banana\", \"laranja\"]\n",
    "# Índices:    0        1         2"
   ]
  },
  {
   "cell_type": "code",
   "execution_count": null,
   "metadata": {},
   "outputs": [
    {
     "data": {
      "text/plain": [
       "'banana'"
      ]
     },
     "execution_count": 30,
     "metadata": {},
     "output_type": "execute_result"
    }
   ],
   "source": [
    "frutas[1] "
   ]
  },
  {
   "cell_type": "markdown",
   "metadata": {
    "id": "qNQGV5Afv6Za"
   },
   "source": [
    "frutas[0] retorna \"maçã\"\n",
    "\n",
    "frutas[2] retorna \"laranja\"\n",
    "\n",
    "Se tentar acessar um índice que não existe (ex: frutas[3]), Python retorna um erro."
   ]
  },
  {
   "cell_type": "markdown",
   "metadata": {
    "id": "TkSoiWXnzpvi"
   },
   "source": [
    "2. Mutáveis → Podem Ser Alteradas\n",
    "Diferente de strings (que são imutáveis), listas permitem modificações:"
   ]
  },
  {
   "cell_type": "code",
   "execution_count": 31,
   "metadata": {
    "colab": {
     "base_uri": "https://localhost:8080/"
    },
    "executionInfo": {
     "elapsed": 4,
     "status": "ok",
     "timestamp": 1744912413623,
     "user": {
      "displayName": "matheus silva",
      "userId": "03241644958317690825"
     },
     "user_tz": 180
    },
    "id": "yeYYns1qzxQS",
    "outputId": "40bebfd0-b75c-48e0-9ab5-fd6050aa0cac"
   },
   "outputs": [
    {
     "name": "stdout",
     "output_type": "stream",
     "text": [
      "['maçã', 'morango', 'laranja']\n"
     ]
    }
   ],
   "source": [
    "frutas[1] = \"morango\"  # Substitui \"banana\" por \"morango\"\n",
    "print(frutas)  # Saída: [\"maçã\", \"morango\", \"laranja\"]"
   ]
  },
  {
   "cell_type": "markdown",
   "metadata": {
    "id": "kTenMvFR0zAZ"
   },
   "source": [
    "3. Aceitam Elementos Repetidos"
   ]
  },
  {
   "cell_type": "code",
   "execution_count": null,
   "metadata": {
    "id": "9C0nHjRC04dh"
   },
   "outputs": [],
   "source": [
    "numeros = [1, 2, 2, 3, 3, 3]  # Válido!"
   ]
  },
  {
   "cell_type": "markdown",
   "metadata": {
    "id": "-IG4Jg1q1bPi"
   },
   "source": [
    "## Operações Básicas com Listas\n",
    "\n",
    "**Adicionar Elementos**\n",
    "**.append()** → Adiciona ao final."
   ]
  },
  {
   "cell_type": "code",
   "execution_count": 34,
   "metadata": {},
   "outputs": [],
   "source": [
    "frutas.append('abacaxi')\n"
   ]
  },
  {
   "cell_type": "code",
   "execution_count": 37,
   "metadata": {},
   "outputs": [
    {
     "name": "stdout",
     "output_type": "stream",
     "text": [
      "['maçã', 'morango', 'laranja', 'abacaxi', 'abacaxi', 'uva']\n"
     ]
    }
   ],
   "source": [
    "print(frutas)"
   ]
  },
  {
   "cell_type": "code",
   "execution_count": 36,
   "metadata": {
    "id": "2pgANdkV2Uyy"
   },
   "outputs": [],
   "source": [
    "frutas.append(\"uva\")  # [\"maçã\", \"morango\", \"laranja\", \"uva\"]"
   ]
  },
  {
   "cell_type": "markdown",
   "metadata": {
    "id": "BxsnXd7425D6"
   },
   "source": [
    "**insert()** → **Insere em uma posição específica.**"
   ]
  },
  {
   "cell_type": "code",
   "execution_count": 38,
   "metadata": {
    "colab": {
     "base_uri": "https://localhost:8080/"
    },
    "executionInfo": {
     "elapsed": 9,
     "status": "ok",
     "timestamp": 1744912426401,
     "user": {
      "displayName": "matheus silva",
      "userId": "03241644958317690825"
     },
     "user_tz": 180
    },
    "id": "ARNHZW0f3G5B",
    "outputId": "dc5fb6c2-80a2-4887-a8ab-72c5ccef3d68"
   },
   "outputs": [
    {
     "name": "stdout",
     "output_type": "stream",
     "text": [
      "['Cambuci', 'maçã', 'morango', 'laranja', 'abacaxi', 'abacaxi', 'uva']\n"
     ]
    }
   ],
   "source": [
    "frutas.insert(0, \"Cambuci\")  # [\"maçã\", \"abacaxi\", \"morango\", \"laranja\", \"uva\"]\n",
    "print(frutas)"
   ]
  },
  {
   "cell_type": "markdown",
   "metadata": {
    "id": "qPBblqwB4tfx"
   },
   "source": [
    "Remover Elementos\n",
    "\n",
    "**remove()** → Remove o primeiro valor igual ao especificado."
   ]
  },
  {
   "cell_type": "code",
   "execution_count": 40,
   "metadata": {
    "id": "vWRSJFnR5InJ"
   },
   "outputs": [
    {
     "name": "stdout",
     "output_type": "stream",
     "text": [
      "['Cambuci', 'maçã', 'laranja', 'abacaxi', 'uva']\n"
     ]
    }
   ],
   "source": [
    "frutas.remove(\"abacaxi\")  # Remove \"morango\"\n",
    "print(frutas)"
   ]
  },
  {
   "cell_type": "code",
   "execution_count": 49,
   "metadata": {},
   "outputs": [
    {
     "name": "stdout",
     "output_type": "stream",
     "text": [
      "['Cambuci', 'maçã', 'laranja']\n"
     ]
    }
   ],
   "source": [
    "print(frutas)"
   ]
  },
  {
   "cell_type": "markdown",
   "metadata": {
    "id": "qjVP3pkQ5E8p"
   },
   "source": [
    "**pop() →** Remove e retorna um elemento pelo índice (se não passar índice, remove o último)."
   ]
  },
  {
   "cell_type": "code",
   "execution_count": 45,
   "metadata": {
    "id": "8HhvK9xA5YRB"
   },
   "outputs": [
    {
     "name": "stdout",
     "output_type": "stream",
     "text": [
      "O fruta removida foi abacaxi\n"
     ]
    }
   ],
   "source": [
    "ultima_fruta = frutas.pop()  # Remove \"uva\" e retorna seu valor\n",
    "print(f'O fruta removida foi {ultima_fruta}')"
   ]
  },
  {
   "cell_type": "code",
   "execution_count": 47,
   "metadata": {},
   "outputs": [
    {
     "data": {
      "text/plain": [
       "'abacaxi'"
      ]
     },
     "execution_count": 47,
     "metadata": {},
     "output_type": "execute_result"
    }
   ],
   "source": [
    "ultima_fruta"
   ]
  },
  {
   "cell_type": "markdown",
   "metadata": {
    "id": "6MfonG2p5hWJ"
   },
   "source": [
    "## Outras Operações Úteis"
   ]
  },
  {
   "cell_type": "markdown",
   "metadata": {
    "id": "cqu9hv0G58rB"
   },
   "source": [
    "**len() →** Retorna o tamanho da lista."
   ]
  },
  {
   "cell_type": "code",
   "execution_count": null,
   "metadata": {
    "id": "d90rR_rY6Fl4"
   },
   "outputs": [
    {
     "name": "stdout",
     "output_type": "stream",
     "text": [
      "3\n"
     ]
    }
   ],
   "source": [
    "print(len(frutas))  # Saída: 3"
   ]
  },
  {
   "cell_type": "markdown",
   "metadata": {
    "id": "z5zOelWs6LcJ"
   },
   "source": [
    "**sort() →** Ordena a lista."
   ]
  },
  {
   "cell_type": "code",
   "execution_count": 50,
   "metadata": {
    "id": "CVCn5AwvAeeq"
   },
   "outputs": [
    {
     "name": "stdout",
     "output_type": "stream",
     "text": [
      "[1, 2, 3, 4]\n"
     ]
    }
   ],
   "source": [
    "numeros = [3, 1, 4, 2]\n",
    "numeros.sort()  # [1, 2, 3, 4]\n",
    "print(numeros)"
   ]
  },
  {
   "cell_type": "code",
   "execution_count": 52,
   "metadata": {},
   "outputs": [
    {
     "name": "stdout",
     "output_type": "stream",
     "text": [
      "['Dr. Dolittle', 'Esposa de mentirinha', 'Vingadores']\n"
     ]
    }
   ],
   "source": [
    "lista_filmes = ['Vingadores', 'Esposa de mentirinha', 'Dr. Dolittle']\n",
    "lista_filmes.sort()\n",
    "print(lista_filmes)"
   ]
  },
  {
   "cell_type": "markdown",
   "metadata": {},
   "source": []
  },
  {
   "cell_type": "markdown",
   "metadata": {
    "id": "51Ob5GXaBhj6"
   },
   "source": [
    "\n",
    "## Fatiamento (Slicing) → Pegando Partes da Lista\n",
    "\n",
    "Podemos extrair \"pedaços\" da lista usando **[início:fim:passo]:**"
   ]
  },
  {
   "cell_type": "code",
   "execution_count": 53,
   "metadata": {
    "id": "LqUmdwA8Cwuj"
   },
   "outputs": [
    {
     "name": "stdout",
     "output_type": "stream",
     "text": [
      "['b', 'c', 'd']\n",
      "['a', 'c', 'e']\n",
      "['e', 'd', 'c', 'b', 'a']\n"
     ]
    }
   ],
   "source": [
    "letras = [\"a\", \"b\", \"c\", \"d\", \"e\"]\n",
    "print(letras[1:4])    # [\"b\", \"c\", \"d\"] (índices 1 a 3)\n",
    "print(letras[::2])    # [\"a\", \"c\", \"e\"] (pula de 2 em 2)\n",
    "print(letras[::-1])   # [\"e\", \"d\", \"c\", \"b\", \"a\"] (inverte)"
   ]
  },
  {
   "cell_type": "code",
   "execution_count": 54,
   "metadata": {},
   "outputs": [
    {
     "data": {
      "text/plain": [
       "['a', 'b', 'c', 'd', 'e']"
      ]
     },
     "execution_count": 54,
     "metadata": {},
     "output_type": "execute_result"
    }
   ],
   "source": [
    "letras[0:5]"
   ]
  },
  {
   "cell_type": "markdown",
   "metadata": {},
   "source": [
    "| Método       | O que faz                                             | Exemplo                                | Resultado                |\n",
    "| ------------ | ----------------------------------------------------- | -------------------------------------- | ------------------------ |\n",
    "| `.append()`  | Adiciona um item no final da lista                    | `lista = [1, 2]; lista.append(3)`      | `[1, 2, 3]`              |\n",
    "| `.extend()`  | Adiciona todos os elementos de outra lista            | `lista = [1]; lista.extend([2, 3])`    | `[1, 2, 3]`              |\n",
    "| `.insert()`  | Insere um item em uma posição específica              | `lista = [1, 3]; lista.insert(1, 2)`   | `[1, 2, 3]`              |\n",
    "| `.remove()`  | Remove a primeira ocorrência de um valor              | `lista = [1, 2, 3]; lista.remove(2)`   | `[1, 3]`                 |\n",
    "| `.pop()`     | Remove e retorna o último item (ou item de um índice) | `lista = [1, 2, 3]; lista.pop()`       | `3`, lista fica `[1, 2]` |\n",
    "| `.clear()`   | Remove todos os itens da lista                        | `lista = [1, 2, 3]; lista.clear()`     | `[]`                     |\n",
    "| `.index()`   | Retorna o índice da primeira ocorrência de um valor   | `lista = [1, 2, 3]; lista.index(2)`    | `1`                      |\n",
    "| `.count()`   | Conta quantas vezes um valor aparece na lista         | `lista = [1, 2, 2, 3]; lista.count(2)` | `2`                      |\n",
    "| `.sort()`    | Ordena os itens da lista (ordem crescente por padrão) | `lista = [3, 1, 2]; lista.sort()`      | `[1, 2, 3]`              |\n",
    "| `.reverse()` | Inverte a ordem dos itens da lista                    | `lista = [1, 2, 3]; lista.reverse()`   | `[3, 2, 1]`              |\n",
    "| `.copy()`    | Retorna uma cópia da lista                            | `nova = lista.copy()`                  | `nova` é igual a `lista` |\n"
   ]
  },
  {
   "cell_type": "markdown",
   "metadata": {
    "id": "JLohvFDkmDMM"
   },
   "source": [
    "### Exercicio de Listas\n"
   ]
  },
  {
   "cell_type": "markdown",
   "metadata": {
    "id": "DJfQTR3mmi6M"
   },
   "source": [
    "Nossa Lista de Números.\n"
   ]
  },
  {
   "cell_type": "code",
   "execution_count": null,
   "metadata": {
    "colab": {
     "base_uri": "https://localhost:8080/"
    },
    "executionInfo": {
     "elapsed": 15,
     "status": "ok",
     "timestamp": 1743079014817,
     "user": {
      "displayName": "matheus silva",
      "userId": "03241644958317690825"
     },
     "user_tz": 180
    },
    "id": "tKIOWp3jmLrU",
    "outputId": "1f03f820-7640-41e3-c8f4-d44eac892d30"
   },
   "outputs": [],
   "source": []
  },
  {
   "cell_type": "markdown",
   "metadata": {
    "id": "z4vyZPxfm1V8"
   },
   "source": [
    "Etapa 1: Escreva uma linha de código que solicita ao usuário digitar um número inteiro, esse número deve substituir o elemento do meio da lista."
   ]
  },
  {
   "cell_type": "code",
   "execution_count": null,
   "metadata": {
    "colab": {
     "base_uri": "https://localhost:8080/"
    },
    "executionInfo": {
     "elapsed": 6266,
     "status": "ok",
     "timestamp": 1743082196064,
     "user": {
      "displayName": "matheus silva",
      "userId": "03241644958317690825"
     },
     "user_tz": 180
    },
    "id": "vFxyMxy8nHJV",
    "outputId": "bd7d2ed8-ddbb-4e3c-a286-28eed4f86526"
   },
   "outputs": [],
   "source": []
  },
  {
   "cell_type": "markdown",
   "metadata": {
    "id": "sNbDzVJCzYl6"
   },
   "source": [
    "Etapa 2: escreva uma linha de código que remova o último elemento da lista.\n"
   ]
  },
  {
   "cell_type": "code",
   "execution_count": null,
   "metadata": {
    "colab": {
     "base_uri": "https://localhost:8080/"
    },
    "executionInfo": {
     "elapsed": 6,
     "status": "ok",
     "timestamp": 1743082412485,
     "user": {
      "displayName": "matheus silva",
      "userId": "03241644958317690825"
     },
     "user_tz": 180
    },
    "id": "OtpGjhMFzjxh",
    "outputId": "ba3e7816-f167-4efe-98bb-e43ff29c12ae"
   },
   "outputs": [],
   "source": []
  },
  {
   "cell_type": "markdown",
   "metadata": {
    "id": "cfCy91RZz2kD"
   },
   "source": [
    "Etapa 3: escreva uma linha de código que imprima o comprimento da lista atual\n"
   ]
  },
  {
   "cell_type": "code",
   "execution_count": null,
   "metadata": {
    "id": "ZSIUpj7Uz4HD"
   },
   "outputs": [],
   "source": []
  },
  {
   "cell_type": "markdown",
   "metadata": {
    "id": "Q_EeSrKl0LFt"
   },
   "source": [
    "# Exercício de Listas Beatles:\n",
    "\n",
    "Os Beatles foram um dos grupos de música mais populares dos anos 60, e a banda mais vendida na história. Algumas pessoas consideram que eles são o ato mais influente da era do rock. Na verdade, eles foram incluídos na compilação da revista *Time* das 100 pessoas mais influentes do século XX.\n",
    "\n",
    "A banda passou por muitas mudanças na formação, culminando em 1962 com a formação de John Lennon, Paul McCartney, George Harrison e Richard Starkey (mais conhecido como Ringo Starr).\n",
    "\n",
    "Escreva um programa que reflita essas mudanças e permita praticar com o conceito de listas. Sua tarefa:"
   ]
  },
  {
   "cell_type": "markdown",
   "metadata": {
    "id": "zEQa-a0I1Fmy"
   },
   "source": [
    "Etapa 1: Criar uma lista vazia chamada beatles;\n"
   ]
  },
  {
   "cell_type": "code",
   "execution_count": null,
   "metadata": {
    "colab": {
     "base_uri": "https://localhost:8080/"
    },
    "executionInfo": {
     "elapsed": 21,
     "status": "ok",
     "timestamp": 1748221569657,
     "user": {
      "displayName": "matheus silva",
      "userId": "03241644958317690825"
     },
     "user_tz": 180
    },
    "id": "bETJ56YE1J0R",
    "outputId": "862f5572-8808-4b45-98af-e9fd94fc13fd"
   },
   "outputs": [],
   "source": []
  },
  {
   "cell_type": "markdown",
   "metadata": {
    "id": "C47eNgmw1KoZ"
   },
   "source": [
    "Etapa 2: use o método append() para adicionar os seguintes membros da banda à lista: John Lennon, Paul McCartney e George Harrison;"
   ]
  },
  {
   "cell_type": "code",
   "execution_count": null,
   "metadata": {
    "colab": {
     "base_uri": "https://localhost:8080/"
    },
    "executionInfo": {
     "elapsed": 10,
     "status": "ok",
     "timestamp": 1748221593378,
     "user": {
      "displayName": "matheus silva",
      "userId": "03241644958317690825"
     },
     "user_tz": 180
    },
    "id": "95yysbR51Opy",
    "outputId": "1f10dc36-bdbb-49e0-b6d4-9c4b6f686256"
   },
   "outputs": [],
   "source": []
  },
  {
   "cell_type": "markdown",
   "metadata": {
    "id": "lv62tChs1jw8"
   },
   "source": [
    "Etapa 3: Use o loop for e o método append() para solicitar que o usuário adicione os seguintes membros da banda à lista: Stu Sutcliffe e Pete Best;"
   ]
  },
  {
   "cell_type": "code",
   "execution_count": null,
   "metadata": {
    "colab": {
     "base_uri": "https://localhost:8080/"
    },
    "executionInfo": {
     "elapsed": 29712,
     "status": "ok",
     "timestamp": 1748221643578,
     "user": {
      "displayName": "matheus silva",
      "userId": "03241644958317690825"
     },
     "user_tz": 180
    },
    "id": "2IDuD6uJ1nRE",
    "outputId": "f7474ca2-5e0a-42bd-9009-cdeed1663802"
   },
   "outputs": [],
   "source": []
  },
  {
   "cell_type": "markdown",
   "metadata": {
    "id": "V8Zm8zFl1y91"
   },
   "source": [
    "Etapa 4: Use a instrução del para remover Stu Sutcliffe e Pete Best da lista;"
   ]
  },
  {
   "cell_type": "code",
   "execution_count": null,
   "metadata": {
    "colab": {
     "base_uri": "https://localhost:8080/"
    },
    "executionInfo": {
     "elapsed": 8,
     "status": "ok",
     "timestamp": 1748221654828,
     "user": {
      "displayName": "matheus silva",
      "userId": "03241644958317690825"
     },
     "user_tz": 180
    },
    "id": "18fO8IUq13tl",
    "outputId": "65a247e6-1888-4f92-8057-82fc85d62a76"
   },
   "outputs": [],
   "source": []
  },
  {
   "cell_type": "markdown",
   "metadata": {
    "id": "LHdtrWdy19Ge"
   },
   "source": [
    "Etapa 5: Use o método insert() para adicionar Ringo Starr ao início da lista.\n"
   ]
  },
  {
   "cell_type": "code",
   "execution_count": null,
   "metadata": {
    "colab": {
     "base_uri": "https://localhost:8080/"
    },
    "executionInfo": {
     "elapsed": 10,
     "status": "ok",
     "timestamp": 1748221677971,
     "user": {
      "displayName": "matheus silva",
      "userId": "03241644958317690825"
     },
     "user_tz": 180
    },
    "id": "OZdMmuqq1-dG",
    "outputId": "9e809bb1-3bf2-44c5-cb04-5493b0e86d30"
   },
   "outputs": [],
   "source": []
  }
 ],
 "metadata": {
  "colab": {
   "authorship_tag": "ABX9TyOEhVwlTq2CZFE4qc6er3OO",
   "collapsed_sections": [
    "3-10nKaJicf0"
   ],
   "provenance": []
  },
  "kernelspec": {
   "display_name": "Python 3",
   "name": "python3"
  },
  "language_info": {
   "codemirror_mode": {
    "name": "ipython",
    "version": 3
   },
   "file_extension": ".py",
   "mimetype": "text/x-python",
   "name": "python",
   "nbconvert_exporter": "python",
   "pygments_lexer": "ipython3",
   "version": "3.13.2"
  }
 },
 "nbformat": 4,
 "nbformat_minor": 0
}

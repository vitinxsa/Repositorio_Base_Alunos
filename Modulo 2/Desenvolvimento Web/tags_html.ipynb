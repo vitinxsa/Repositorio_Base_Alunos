{
 "cells": [
  {
   "cell_type": "markdown",
   "id": "a9d5f633",
   "metadata": {
    "vscode": {
     "languageId": "plaintext"
    }
   },
   "source": [
    "# Principais Tags HTML"
   ]
  },
  {
   "cell_type": "markdown",
   "id": "91122681",
   "metadata": {},
   "source": [
    "# Estrutura Básica"
   ]
  },
  {
   "cell_type": "markdown",
   "id": "8fa0a651",
   "metadata": {},
   "source": [
    "| Tag               | Função                                           |\n",
    "| ----------------- | ------------------------------------------------ |\n",
    "| `<!DOCTYPE html>` | Define o tipo de documento (HTML5).              |\n",
    "| `<html>`          | Elemento raiz da página.                         |\n",
    "| `<head>`          | Contém metadados e informações do documento.     |\n",
    "| `<title>`         | Define o título exibido na aba do navegador.     |\n",
    "| `<meta>`          | Define metadados (charset, descrição, viewport). |\n",
    "| `<body>`          | Contém o conteúdo visível da página.             |\n"
   ]
  },
  {
   "cell_type": "markdown",
   "id": "6f1e7756",
   "metadata": {},
   "source": [
    "# Títulos e Textos"
   ]
  },
  {
   "cell_type": "markdown",
   "id": "bef4a0b9",
   "metadata": {},
   "source": [
    "| Tag                | Função                                       |\n",
    "| ------------------ | -------------------------------------------- |\n",
    "| `<h1>` a `<h6>`    | Títulos de diferentes níveis (h1 é o maior). |\n",
    "| `<p>`              | Parágrafo de texto.                          |\n",
    "| `<br>`             | Quebra de linha.                             |\n",
    "| `<hr>`             | Linha horizontal (separador).                |\n",
    "| `<strong>` / `<b>` | Texto em negrito (semântico: `<strong>`).    |\n",
    "| `<em>` / `<i>`     | Texto em itálico (semântico: `<em>`).        |\n",
    "| `<u>`              | Texto sublinhado.                            |\n",
    "| `<span>`           | Texto inline usado para estilização.         |\n"
   ]
  },
  {
   "cell_type": "markdown",
   "id": "9d7a2e50",
   "metadata": {},
   "source": [
    "# Listas"
   ]
  },
  {
   "cell_type": "markdown",
   "id": "1e6e1397",
   "metadata": {},
   "source": [
    "| Tag    | Função                                            |\n",
    "| ------ | ------------------------------------------------- |\n",
    "| `<ul>` | Cria uma lista não ordenada (com marcadores).     |\n",
    "| `<ol>` | Cria uma lista ordenada (numerada).               |\n",
    "| `<li>` | Item de lista (usado dentro de `<ul>` ou `<ol>`). |\n"
   ]
  },
  {
   "cell_type": "markdown",
   "id": "31a785db",
   "metadata": {},
   "source": [
    "# Links e navegação"
   ]
  },
  {
   "cell_type": "markdown",
   "id": "84e77d2e",
   "metadata": {},
   "source": [
    "| Tag   | Função                                    |\n",
    "| ----- | ----------------------------------------- |\n",
    "| `<a>` | Cria links para outras páginas ou seções. |\n"
   ]
  },
  {
   "cell_type": "markdown",
   "id": "479cc441",
   "metadata": {},
   "source": [
    "# Imagens e Mídias"
   ]
  },
  {
   "cell_type": "markdown",
   "id": "669f16ea",
   "metadata": {},
   "source": [
    "| Tag        | Função                                          |\n",
    "| ---------- | ----------------------------------------------- |\n",
    "| `<img>`    | Exibe imagens.                                  |\n",
    "| `<video>`  | Insere vídeos na página.                        |\n",
    "| `<audio>`  | Insere áudio.                                   |\n",
    "| `<iframe>` | Embute outra página ou conteúdo (ex.: YouTube). |\n"
   ]
  },
  {
   "cell_type": "markdown",
   "id": "7be09108",
   "metadata": {},
   "source": [
    "# Tabelas"
   ]
  },
  {
   "cell_type": "markdown",
   "id": "9d312b38",
   "metadata": {},
   "source": [
    "| Tag       | Função                     |\n",
    "| --------- | -------------------------- |\n",
    "| `<table>` | Cria uma tabela.           |\n",
    "| `<tr>`    | Linha da tabela.           |\n",
    "| `<td>`    | Célula de dados.           |\n",
    "| `<th>`    | Cabeçalho da tabela.       |\n",
    "| `<thead>` | Agrupa cabeçalhos.         |\n",
    "| `<tbody>` | Agrupa o corpo da tabela.  |\n",
    "| `<tfoot>` | Agrupa o rodapé da tabela. |\n"
   ]
  },
  {
   "cell_type": "markdown",
   "id": "cbcf1d66",
   "metadata": {},
   "source": [
    "# Formulários e Input"
   ]
  },
  {
   "cell_type": "markdown",
   "id": "971a5196",
   "metadata": {},
   "source": [
    "| Tag          | Função                                           |\n",
    "| ------------ | ------------------------------------------------ |\n",
    "| `<form>`     | Define um formulário.                            |\n",
    "| `<input>`    | Campo de entrada de dados (texto, número, etc.). |\n",
    "| `<textarea>` | Área de texto maior (multilinha).                |\n",
    "| `<button>`   | Botão clicável.                                  |\n",
    "| `<label>`    | Define rótulos para inputs.                      |\n",
    "| `<select>`   | Menu suspenso (dropdown).                        |\n",
    "| `<option>`   | Opções de um `<select>`.                         |\n",
    "| `<fieldset>` | Agrupa campos de formulário.                     |\n",
    "| `<legend>`   | Define a legenda para um `<fieldset>`.           |\n"
   ]
  },
  {
   "cell_type": "markdown",
   "id": "079afb1a",
   "metadata": {},
   "source": [
    "# Estruturação de Layout (Tags Semânticas)\n"
   ]
  },
  {
   "cell_type": "markdown",
   "id": "1ca92a50",
   "metadata": {},
   "source": [
    "| Tag         | Função                                          |\n",
    "| ----------- | ----------------------------------------------- |\n",
    "| `<div>`     | Container genérico (sem significado semântico). |\n",
    "| `<header>`  | Cabeçalho da página ou seção.                   |\n",
    "| `<nav>`     | Navegação principal ou de seções.               |\n",
    "| `<main>`    | Conteúdo principal da página.                   |\n",
    "| `<section>` | Seção de conteúdo.                              |\n",
    "| `<article>` | Conteúdo independente (ex.: post de blog).      |\n",
    "| `<aside>`   | Conteúdo lateral ou complementar.               |\n",
    "| `<footer>`  | Rodapé da página ou seção.                      |\n"
   ]
  },
  {
   "cell_type": "markdown",
   "id": "c74da4f4",
   "metadata": {},
   "source": [
    "# Scripts e Estilos"
   ]
  },
  {
   "cell_type": "markdown",
   "id": "7d33971c",
   "metadata": {},
   "source": [
    "| Tag        | Função                               |\n",
    "| ---------- | ------------------------------------ |\n",
    "| `<style>`  | Adiciona CSS diretamente no HTML.    |\n",
    "| `<link>`   | Importa arquivos CSS externos.       |\n",
    "| `<script>` | Insere ou importa código JavaScript. |\n"
   ]
  },
  {
   "cell_type": "markdown",
   "id": "5f456f73",
   "metadata": {},
   "source": []
  }
 ],
 "metadata": {
  "kernelspec": {
   "display_name": "Python 3",
   "language": "python",
   "name": "python3"
  },
  "language_info": {
   "name": "python",
   "version": "3.13.2"
  }
 },
 "nbformat": 4,
 "nbformat_minor": 5
}
